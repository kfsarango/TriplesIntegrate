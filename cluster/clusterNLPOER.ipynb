{
 "cells": [
  {
   "cell_type": "code",
   "execution_count": 1,
   "metadata": {},
   "outputs": [],
   "source": [
    "from sqlalchemy import create_engine\n",
    "\n",
    "import pandas as pd\n",
    "\n",
    "import nltk\n",
    "from nltk.corpus import stopwords\n",
    "from nltk.tokenize import sent_tokenize, word_tokenize\n",
    "from nltk.tokenize import RegexpTokenizer\n",
    "from nltk.stem import WordNetLemmatizer\n",
    "from nltk.tag import StanfordNERTagger\n",
    "\n",
    "import numpy as np # linear algebra\n",
    "import pandas as pd # data processing, CSV file I/O (e.g. pd.read_csv)\n",
    "from sklearn.feature_extraction.text import TfidfVectorizer\n",
    "from sklearn.decomposition import PCA\n",
    "from sklearn.preprocessing import normalize\n",
    "from sklearn.metrics import pairwise_distances\n",
    "\n",
    "import nltk\n",
    "import string\n",
    "\n",
    "import matplotlib.pyplot as plt\n",
    "%matplotlib inline\n",
    "plt.style.use('fivethirtyeight')\n",
    "\n",
    "\n",
    "#own Kmeans\n",
    "from kmeans_algorithm import Kmeans"
   ]
  },
  {
   "cell_type": "code",
   "execution_count": 2,
   "metadata": {},
   "outputs": [],
   "source": [
    "# Init the Wordnet Lemmatizer\n",
    "lemmatizer = WordNetLemmatizer()"
   ]
  },
  {
   "cell_type": "code",
   "execution_count": 3,
   "metadata": {},
   "outputs": [],
   "source": [
    "stringDB = \"mysql+pymysql://root:@localhost:3306/oerintegrationdb\"\n",
    "# Conexion a la BD\n",
    "engine = create_engine(stringDB)"
   ]
  },
  {
   "cell_type": "code",
   "execution_count": 4,
   "metadata": {
    "scrolled": false
   },
   "outputs": [
    {
     "data": {
      "text/html": [
       "<div>\n",
       "<style scoped>\n",
       "    .dataframe tbody tr th:only-of-type {\n",
       "        vertical-align: middle;\n",
       "    }\n",
       "\n",
       "    .dataframe tbody tr th {\n",
       "        vertical-align: top;\n",
       "    }\n",
       "\n",
       "    .dataframe thead th {\n",
       "        text-align: right;\n",
       "    }\n",
       "</style>\n",
       "<table border=\"1\" class=\"dataframe\">\n",
       "  <thead>\n",
       "    <tr style=\"text-align: right;\">\n",
       "      <th></th>\n",
       "      <th>subject</th>\n",
       "      <th>subject_alternative</th>\n",
       "      <th>predicate</th>\n",
       "      <th>object</th>\n",
       "      <th>repository</th>\n",
       "    </tr>\n",
       "  </thead>\n",
       "  <tbody>\n",
       "    <tr>\n",
       "      <td>0</td>\n",
       "      <td>https://oer.galileo.usg.edu/mathematics-textbo...</td>\n",
       "      <td></td>\n",
       "      <td>title</td>\n",
       "      <td>Armstrong Calculus</td>\n",
       "      <td>Galileo Open</td>\n",
       "    </tr>\n",
       "    <tr>\n",
       "      <td>1</td>\n",
       "      <td>https://oer.galileo.usg.edu/education-textbooks/3</td>\n",
       "      <td></td>\n",
       "      <td>title</td>\n",
       "      <td>Arts Integration in Elementary Curriculum: 2nd...</td>\n",
       "      <td>Galileo Open</td>\n",
       "    </tr>\n",
       "    <tr>\n",
       "      <td>2</td>\n",
       "      <td>https://oer.galileo.usg.edu/english-textbooks/19</td>\n",
       "      <td></td>\n",
       "      <td>title</td>\n",
       "      <td>Becoming America: An Exploration of American L...</td>\n",
       "      <td>Galileo Open</td>\n",
       "    </tr>\n",
       "    <tr>\n",
       "      <td>3</td>\n",
       "      <td>https://oer.galileo.usg.edu/english-textbooks/20</td>\n",
       "      <td></td>\n",
       "      <td>title</td>\n",
       "      <td>Brehe's Grammar Anatomy</td>\n",
       "      <td>Galileo Open</td>\n",
       "    </tr>\n",
       "    <tr>\n",
       "      <td>4</td>\n",
       "      <td>https://oer.galileo.usg.edu/english-textbooks/16</td>\n",
       "      <td></td>\n",
       "      <td>title</td>\n",
       "      <td>British Literature II: Romantic Era to the Twe...</td>\n",
       "      <td>Galileo Open</td>\n",
       "    </tr>\n",
       "    <tr>\n",
       "      <td>5</td>\n",
       "      <td>https://oer.galileo.usg.edu/english-textbooks/17</td>\n",
       "      <td></td>\n",
       "      <td>title</td>\n",
       "      <td>British Literature I: Middle Ages to the Eight...</td>\n",
       "      <td>Galileo Open</td>\n",
       "    </tr>\n",
       "    <tr>\n",
       "      <td>6</td>\n",
       "      <td>https://oer.galileo.usg.edu/english-textbooks/14</td>\n",
       "      <td></td>\n",
       "      <td>title</td>\n",
       "      <td>College ESL Writers: Applied Grammar and Compo...</td>\n",
       "      <td>Galileo Open</td>\n",
       "    </tr>\n",
       "    <tr>\n",
       "      <td>7</td>\n",
       "      <td>https://oer.galileo.usg.edu/english-textbooks/2</td>\n",
       "      <td></td>\n",
       "      <td>title</td>\n",
       "      <td>Compact Anthology of World Literature</td>\n",
       "      <td>Galileo Open</td>\n",
       "    </tr>\n",
       "    <tr>\n",
       "      <td>8</td>\n",
       "      <td>https://oer.galileo.usg.edu/english-textbooks/18</td>\n",
       "      <td></td>\n",
       "      <td>title</td>\n",
       "      <td>Compact Anthology of World Literature II: Volu...</td>\n",
       "      <td>Galileo Open</td>\n",
       "    </tr>\n",
       "    <tr>\n",
       "      <td>9</td>\n",
       "      <td>https://oer.galileo.usg.edu/health-textbooks/4</td>\n",
       "      <td></td>\n",
       "      <td>title</td>\n",
       "      <td>Concepts of Fitness and Wellness, 2nd Edition</td>\n",
       "      <td>Galileo Open</td>\n",
       "    </tr>\n",
       "  </tbody>\n",
       "</table>\n",
       "</div>"
      ],
      "text/plain": [
       "                                             subject subject_alternative  \\\n",
       "0  https://oer.galileo.usg.edu/mathematics-textbo...                       \n",
       "1  https://oer.galileo.usg.edu/education-textbooks/3                       \n",
       "2   https://oer.galileo.usg.edu/english-textbooks/19                       \n",
       "3   https://oer.galileo.usg.edu/english-textbooks/20                       \n",
       "4   https://oer.galileo.usg.edu/english-textbooks/16                       \n",
       "5   https://oer.galileo.usg.edu/english-textbooks/17                       \n",
       "6   https://oer.galileo.usg.edu/english-textbooks/14                       \n",
       "7    https://oer.galileo.usg.edu/english-textbooks/2                       \n",
       "8   https://oer.galileo.usg.edu/english-textbooks/18                       \n",
       "9     https://oer.galileo.usg.edu/health-textbooks/4                       \n",
       "\n",
       "  predicate                                             object    repository  \n",
       "0     title                                 Armstrong Calculus  Galileo Open  \n",
       "1     title  Arts Integration in Elementary Curriculum: 2nd...  Galileo Open  \n",
       "2     title  Becoming America: An Exploration of American L...  Galileo Open  \n",
       "3     title                            Brehe's Grammar Anatomy  Galileo Open  \n",
       "4     title  British Literature II: Romantic Era to the Twe...  Galileo Open  \n",
       "5     title  British Literature I: Middle Ages to the Eight...  Galileo Open  \n",
       "6     title  College ESL Writers: Applied Grammar and Compo...  Galileo Open  \n",
       "7     title              Compact Anthology of World Literature  Galileo Open  \n",
       "8     title  Compact Anthology of World Literature II: Volu...  Galileo Open  \n",
       "9     title      Concepts of Fitness and Wellness, 2nd Edition  Galileo Open  "
      ]
     },
     "execution_count": 4,
     "metadata": {},
     "output_type": "execute_result"
    }
   ],
   "source": [
    "query = \"SELECT * FROM cleantriple where predicate = 'title' limit 10;\"\n",
    "df = pd.read_sql(query, engine)\n",
    "df"
   ]
  },
  {
   "cell_type": "code",
   "execution_count": 7,
   "metadata": {
    "scrolled": false
   },
   "outputs": [
    {
     "name": "stdout",
     "output_type": "stream",
     "text": [
      "{'Arts Integration in Elementary Curriculum: 2nd Edition', \"Brehe's Grammar Anatomy\", 'Armstrong Calculus', 'Compact Anthology of World Literature II: Volumes 4, 5, and 6', 'British Literature I: Middle Ages to the Eighteenth Century and Neoclassicism', 'British Literature II: Romantic Era to the Twentieth Century and Beyond', 'Concepts of Fitness and Wellness, 2nd Edition', 'College ESL Writers: Applied Grammar and Composing Strategies for Success', 'Becoming America: An Exploration of American Literature from Precolonial to Post-Revolution', 'Compact Anthology of World Literature'}\n"
     ]
    },
    {
     "data": {
      "text/html": [
       "<div>\n",
       "<style scoped>\n",
       "    .dataframe tbody tr th:only-of-type {\n",
       "        vertical-align: middle;\n",
       "    }\n",
       "\n",
       "    .dataframe tbody tr th {\n",
       "        vertical-align: top;\n",
       "    }\n",
       "\n",
       "    .dataframe thead th {\n",
       "        text-align: right;\n",
       "    }\n",
       "</style>\n",
       "<table border=\"1\" class=\"dataframe\">\n",
       "  <thead>\n",
       "    <tr style=\"text-align: right;\">\n",
       "      <th></th>\n",
       "      <th>2nd</th>\n",
       "      <th>ages</th>\n",
       "      <th>america</th>\n",
       "      <th>american</th>\n",
       "      <th>anatomy</th>\n",
       "      <th>anthology</th>\n",
       "      <th>applied</th>\n",
       "      <th>armstrong</th>\n",
       "      <th>arts</th>\n",
       "      <th>brehe</th>\n",
       "      <th>...</th>\n",
       "      <th>precolonial</th>\n",
       "      <th>revolution</th>\n",
       "      <th>romantic</th>\n",
       "      <th>strategies</th>\n",
       "      <th>success</th>\n",
       "      <th>twentieth</th>\n",
       "      <th>volumes</th>\n",
       "      <th>wellness</th>\n",
       "      <th>world</th>\n",
       "      <th>writers</th>\n",
       "    </tr>\n",
       "  </thead>\n",
       "  <tbody>\n",
       "    <tr>\n",
       "      <td>0</td>\n",
       "      <td>0.000000</td>\n",
       "      <td>0.0</td>\n",
       "      <td>0.000000</td>\n",
       "      <td>0.000000</td>\n",
       "      <td>0.000000</td>\n",
       "      <td>0.0</td>\n",
       "      <td>0.0</td>\n",
       "      <td>0.707107</td>\n",
       "      <td>0.000000</td>\n",
       "      <td>0.000000</td>\n",
       "      <td>...</td>\n",
       "      <td>0.000000</td>\n",
       "      <td>0.000000</td>\n",
       "      <td>0.000000</td>\n",
       "      <td>0.0</td>\n",
       "      <td>0.0</td>\n",
       "      <td>0.000000</td>\n",
       "      <td>0.0</td>\n",
       "      <td>0.0</td>\n",
       "      <td>0.0</td>\n",
       "      <td>0.0</td>\n",
       "    </tr>\n",
       "    <tr>\n",
       "      <td>1</td>\n",
       "      <td>0.364296</td>\n",
       "      <td>0.0</td>\n",
       "      <td>0.000000</td>\n",
       "      <td>0.000000</td>\n",
       "      <td>0.000000</td>\n",
       "      <td>0.0</td>\n",
       "      <td>0.0</td>\n",
       "      <td>0.000000</td>\n",
       "      <td>0.428537</td>\n",
       "      <td>0.000000</td>\n",
       "      <td>...</td>\n",
       "      <td>0.000000</td>\n",
       "      <td>0.000000</td>\n",
       "      <td>0.000000</td>\n",
       "      <td>0.0</td>\n",
       "      <td>0.0</td>\n",
       "      <td>0.000000</td>\n",
       "      <td>0.0</td>\n",
       "      <td>0.0</td>\n",
       "      <td>0.0</td>\n",
       "      <td>0.0</td>\n",
       "    </tr>\n",
       "    <tr>\n",
       "      <td>2</td>\n",
       "      <td>0.000000</td>\n",
       "      <td>0.0</td>\n",
       "      <td>0.396756</td>\n",
       "      <td>0.396756</td>\n",
       "      <td>0.000000</td>\n",
       "      <td>0.0</td>\n",
       "      <td>0.0</td>\n",
       "      <td>0.000000</td>\n",
       "      <td>0.000000</td>\n",
       "      <td>0.000000</td>\n",
       "      <td>...</td>\n",
       "      <td>0.396756</td>\n",
       "      <td>0.396756</td>\n",
       "      <td>0.000000</td>\n",
       "      <td>0.0</td>\n",
       "      <td>0.0</td>\n",
       "      <td>0.000000</td>\n",
       "      <td>0.0</td>\n",
       "      <td>0.0</td>\n",
       "      <td>0.0</td>\n",
       "      <td>0.0</td>\n",
       "    </tr>\n",
       "    <tr>\n",
       "      <td>3</td>\n",
       "      <td>0.000000</td>\n",
       "      <td>0.0</td>\n",
       "      <td>0.000000</td>\n",
       "      <td>0.000000</td>\n",
       "      <td>0.606043</td>\n",
       "      <td>0.0</td>\n",
       "      <td>0.0</td>\n",
       "      <td>0.000000</td>\n",
       "      <td>0.000000</td>\n",
       "      <td>0.606043</td>\n",
       "      <td>...</td>\n",
       "      <td>0.000000</td>\n",
       "      <td>0.000000</td>\n",
       "      <td>0.000000</td>\n",
       "      <td>0.0</td>\n",
       "      <td>0.0</td>\n",
       "      <td>0.000000</td>\n",
       "      <td>0.0</td>\n",
       "      <td>0.0</td>\n",
       "      <td>0.0</td>\n",
       "      <td>0.0</td>\n",
       "    </tr>\n",
       "    <tr>\n",
       "      <td>4</td>\n",
       "      <td>0.000000</td>\n",
       "      <td>0.0</td>\n",
       "      <td>0.000000</td>\n",
       "      <td>0.000000</td>\n",
       "      <td>0.000000</td>\n",
       "      <td>0.0</td>\n",
       "      <td>0.0</td>\n",
       "      <td>0.000000</td>\n",
       "      <td>0.000000</td>\n",
       "      <td>0.000000</td>\n",
       "      <td>...</td>\n",
       "      <td>0.000000</td>\n",
       "      <td>0.000000</td>\n",
       "      <td>0.425606</td>\n",
       "      <td>0.0</td>\n",
       "      <td>0.0</td>\n",
       "      <td>0.425606</td>\n",
       "      <td>0.0</td>\n",
       "      <td>0.0</td>\n",
       "      <td>0.0</td>\n",
       "      <td>0.0</td>\n",
       "    </tr>\n",
       "  </tbody>\n",
       "</table>\n",
       "<p>5 rows × 42 columns</p>\n",
       "</div>"
      ],
      "text/plain": [
       "        2nd  ages   america  american   anatomy  anthology  applied  \\\n",
       "0  0.000000   0.0  0.000000  0.000000  0.000000        0.0      0.0   \n",
       "1  0.364296   0.0  0.000000  0.000000  0.000000        0.0      0.0   \n",
       "2  0.000000   0.0  0.396756  0.396756  0.000000        0.0      0.0   \n",
       "3  0.000000   0.0  0.000000  0.000000  0.606043        0.0      0.0   \n",
       "4  0.000000   0.0  0.000000  0.000000  0.000000        0.0      0.0   \n",
       "\n",
       "   armstrong      arts     brehe  ...  precolonial  revolution  romantic  \\\n",
       "0   0.707107  0.000000  0.000000  ...     0.000000    0.000000  0.000000   \n",
       "1   0.000000  0.428537  0.000000  ...     0.000000    0.000000  0.000000   \n",
       "2   0.000000  0.000000  0.000000  ...     0.396756    0.396756  0.000000   \n",
       "3   0.000000  0.000000  0.606043  ...     0.000000    0.000000  0.000000   \n",
       "4   0.000000  0.000000  0.000000  ...     0.000000    0.000000  0.425606   \n",
       "\n",
       "   strategies  success  twentieth  volumes  wellness  world  writers  \n",
       "0         0.0      0.0   0.000000      0.0       0.0    0.0      0.0  \n",
       "1         0.0      0.0   0.000000      0.0       0.0    0.0      0.0  \n",
       "2         0.0      0.0   0.000000      0.0       0.0    0.0      0.0  \n",
       "3         0.0      0.0   0.000000      0.0       0.0    0.0      0.0  \n",
       "4         0.0      0.0   0.425606      0.0       0.0    0.0      0.0  \n",
       "\n",
       "[5 rows x 42 columns]"
      ]
     },
     "execution_count": 7,
     "metadata": {},
     "output_type": "execute_result"
    }
   ],
   "source": [
    "data = df['object']\n",
    "tf_idf_vectorizor = TfidfVectorizer(stop_words = 'english',#tokenizer = tokenize_and_stem,\n",
    "                             max_features = 20000)\n",
    "tf_idf = tf_idf_vectorizor.fit_transform(data)\n",
    "#print(tf_idf)\n",
    "tf_idf_norm = normalize(tf_idf)\n",
    "#print(tf_idf_norm)\n",
    "tf_idf_array = tf_idf_norm.toarray()\n",
    "#print(tf_idf_vectorizor.get_feature_names())\n",
    "pd.DataFrame(tf_idf_array, columns=tf_idf_vectorizor.get_feature_names()).head()"
   ]
  },
  {
   "cell_type": "code",
   "execution_count": 11,
   "metadata": {
    "scrolled": true
   },
   "outputs": [
    {
     "name": "stdout",
     "output_type": "stream",
     "text": [
      "Running Model Iteration 0 \n",
      "Running Model Iteration 100 \n",
      "Running Model Iteration 200 \n",
      "Running Model Iteration 300 \n",
      "Running Model Iteration 400 \n",
      "Running Model Iteration 500 \n",
      "Model finished running\n"
     ]
    },
    {
     "data": {
      "image/png": "[encoded data removed]",
      "text/plain": [
       "<Figure size 432x288 with 1 Axes>"
      ]
     },
     "metadata": {
      "needs_background": "light"
     },
     "output_type": "display_data"
    }
   ],
   "source": [
    "#Implementación propia\n",
    "sklearn_pca = PCA(n_components = 2)\n",
    "Y_sklearn = sklearn_pca.fit_transform(tf_idf_array)\n",
    "test_e = Kmeans(3, 1, 600)\n",
    "fitted = test_e.fit_kmeans(Y_sklearn)\n",
    "predicted_values = test_e.predict(Y_sklearn)\n",
    "\n",
    "plt.scatter(Y_sklearn[:, 0], Y_sklearn[:, 1], c=predicted_values, s=50, cmap='viridis')\n",
    "\n",
    "centers = fitted.centroids\n",
    "plt.scatter(centers[:, 0], centers[:, 1],c='black', s=300, alpha=0.6);"
   ]
  },
  {
   "cell_type": "code",
   "execution_count": 7,
   "metadata": {},
   "outputs": [
    {
     "data": {
      "image/png": "[encoded data removed]",
      "text/plain": [
       "<Figure size 432x288 with 1 Axes>"
      ]
     },
     "metadata": {
      "needs_background": "light"
     },
     "output_type": "display_data"
    },
    {
     "data": {
      "image/png": "[encoded data removed]",
      "text/plain": [
       "<Figure size 432x288 with 1 Axes>"
      ]
     },
     "metadata": {
      "needs_background": "light"
     },
     "output_type": "display_data"
    },
    {
     "data": {
      "image/png": "[encoded data removed]",
      "text/plain": [
       "<Figure size 432x288 with 1 Axes>"
      ]
     },
     "metadata": {
      "needs_background": "light"
     },
     "output_type": "display_data"
    },
    {
     "data": {
      "image/png": "[encoded data removed]",
      "text/plain": [
       "<Figure size 432x288 with 1 Axes>"
      ]
     },
     "metadata": {
      "needs_background": "light"
     },
     "output_type": "display_data"
    }
   ],
   "source": [
    "def get_top_features_cluster(tf_idf_array, prediction, n_feats):\n",
    "    labels = np.unique(predicted_values)\n",
    "    dfs = []\n",
    "    for label in labels:\n",
    "        id_temp = np.where(predicted_values==label) # indices for each cluster\n",
    "        x_means = np.mean(tf_idf_array[id_temp], axis = 0) # returns average score across cluster\n",
    "        sorted_means = np.argsort(x_means)[::-1][:n_feats] # indices with top 20 scores\n",
    "        features = tf_idf_vectorizor.get_feature_names()\n",
    "        best_features = [(features[i], x_means[i]) for i in sorted_means]\n",
    "        df = pd.DataFrame(best_features, columns = ['features', 'score'])\n",
    "        dfs.append(df)\n",
    "    return dfs\n",
    "dfs = get_top_features_cluster(tf_idf_array, predicted_values,10)\n",
    "for d in dfs:\n",
    "    height = [h[1] for h in d.values]\n",
    "    bars = [h[0] for h in d.values]\n",
    "    y_pos = np.arange(len(bars))\n",
    "    plt.barh(y_pos, height)\n",
    "    plt.yticks(y_pos, bars)\n",
    "    plt.show()"
   ]
  },
  {
   "cell_type": "code",
   "execution_count": null,
   "metadata": {},
   "outputs": [],
   "source": []
  }
 ],
 "metadata": {
  "kernelspec": {
   "display_name": "TriplesIntegration",
   "language": "python",
   "name": "triplesintegration"
  },
  "language_info": {
   "codemirror_mode": {
    "name": "ipython",
    "version": 3
   },
   "file_extension": ".py",
   "mimetype": "text/x-python",
   "name": "python",
   "nbconvert_exporter": "python",
   "pygments_lexer": "ipython3",
   "version": "3.6.8"
  }
 },
 "nbformat": 4,
 "nbformat_minor": 2
}
