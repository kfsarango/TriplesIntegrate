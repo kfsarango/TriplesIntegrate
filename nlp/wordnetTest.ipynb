{
 "cells": [
  {
   "cell_type": "code",
   "execution_count": 1,
   "metadata": {},
   "outputs": [],
   "source": [
    "from nltk.corpus import wordnet as wn"
   ]
  },
  {
   "cell_type": "code",
   "execution_count": 2,
   "metadata": {},
   "outputs": [],
   "source": [
    "from nltk.stem import WordNetLemmatizer"
   ]
  },
  {
   "cell_type": "code",
   "execution_count": 7,
   "metadata": {},
   "outputs": [],
   "source": [
    "lemmatizer = WordNetLemmatizer()"
   ]
  },
  {
   "cell_type": "code",
   "execution_count": 8,
   "metadata": {},
   "outputs": [
    {
     "data": {
      "text/plain": [
       "'play'"
      ]
     },
     "execution_count": 8,
     "metadata": {},
     "output_type": "execute_result"
    }
   ],
   "source": [
    "lema = lemmatizer.lemmatize('play')\n",
    "lema"
   ]
  },
  {
   "cell_type": "code",
   "execution_count": 18,
   "metadata": {},
   "outputs": [
    {
     "name": "stdout",
     "output_type": "stream",
     "text": [
      "engagement.n.05\n",
      "the play had bookings throughout the summer\n",
      "booking.n.02\n",
      "wondered who had made the booking\n",
      "book.v.01\n",
      "Her agent had booked her for several concerts in Tokyo\n",
      "reserve.v.04\n",
      "reserve me a seat on a flight\n",
      "The agent booked tickets to the show for the whole family\n",
      "please hold a table at Maxim's\n",
      "book.v.03\n",
      "The policeman booked her when she tried to solicit a man\n",
      "book.v.04\n"
     ]
    }
   ],
   "source": [
    "for syn in wn.synsets(\"booking\"):\n",
    "    print(syn.name())\n",
    "    for e in syn.examples():\n",
    "        print(e)"
   ]
  },
  {
   "cell_type": "code",
   "execution_count": 3,
   "metadata": {},
   "outputs": [
    {
     "name": "stdout",
     "output_type": "stream",
     "text": [
      "Synset('dog.n.01')\n",
      "0\n",
      "Synset('frump.n.01')\n",
      "1\n",
      "Synset('dog.n.03')\n",
      "2\n",
      "Synset('cad.n.01')\n",
      "3\n",
      "Synset('frank.n.02')\n",
      "4\n",
      "Synset('pawl.n.01')\n",
      "5\n",
      "Synset('andiron.n.01')\n",
      "6\n",
      "Synset('chase.v.01')\n",
      "7\n"
     ]
    }
   ],
   "source": [
    "synss = wn.synsets('dog')\n",
    "for syn in synss:\n",
    "    print(syn)\n",
    "    print(synss.index(syn))\n",
    "    "
   ]
  },
  {
   "cell_type": "code",
   "execution_count": 13,
   "metadata": {},
   "outputs": [
    {
     "data": {
      "text/plain": [
       "'dog.n.03'"
      ]
     },
     "execution_count": 13,
     "metadata": {},
     "output_type": "execute_result"
    }
   ],
   "source": [
    "wn.synset('dog.n.03').definition()\n"
   ]
  },
  {
   "cell_type": "code",
   "execution_count": 10,
   "metadata": {},
   "outputs": [
    {
     "data": {
      "text/plain": [
       "[]"
      ]
     },
     "execution_count": 10,
     "metadata": {},
     "output_type": "execute_result"
    }
   ],
   "source": [
    "wn.synset('pawl.n.01').examples()"
   ]
  },
  {
   "cell_type": "code",
   "execution_count": 15,
   "metadata": {},
   "outputs": [
    {
     "data": {
      "text/plain": [
       "[Lemma('dog.n.01.dog'),\n",
       " Lemma('dog.n.01.domestic_dog'),\n",
       " Lemma('dog.n.01.Canis_familiaris')]"
      ]
     },
     "execution_count": 15,
     "metadata": {},
     "output_type": "execute_result"
    }
   ],
   "source": [
    "wn.synset('dog.n.01').lemmas()"
   ]
  },
  {
   "cell_type": "code",
   "execution_count": 13,
   "metadata": {},
   "outputs": [
    {
     "name": "stdout",
     "output_type": "stream",
     "text": [
      "['computer', 'computing_machine', 'computing_device', 'data_processor', 'electronic_computer', 'information_processing_system', 'calculator', 'reckoner', 'figurer', 'estimator', 'computer']\n"
     ]
    }
   ],
   "source": [
    "synonyms = []\n",
    "for syn in wn.synsets('Computer'):\n",
    "    for lemma in syn.lemmas():\n",
    "        synonyms.append(lemma.name())\n",
    "print(synonyms)"
   ]
  },
  {
   "cell_type": "code",
   "execution_count": 10,
   "metadata": {},
   "outputs": [
    {
     "name": "stdout",
     "output_type": "stream",
     "text": [
      "['large', 'big', 'big']\n"
     ]
    }
   ],
   "source": [
    "antonyms = []\n",
    "for syn in wn.synsets('small'):\n",
    "    for lemma in syn.lemmas():\n",
    "        if lemma.antonyms():\n",
    "            antonyms.append(lemma.antonyms()[0].name())\n",
    "print(antonyms)"
   ]
  }
 ],
 "metadata": {
  "kernelspec": {
   "display_name": "TriplesIntegration",
   "language": "python",
   "name": "triplesintegration"
  },
  "language_info": {
   "codemirror_mode": {
    "name": "ipython",
    "version": 3
   },
   "file_extension": ".py",
   "mimetype": "text/x-python",
   "name": "python",
   "nbconvert_exporter": "python",
   "pygments_lexer": "ipython3",
   "version": "3.6.8"
  }
 },
 "nbformat": 4,
 "nbformat_minor": 2
}
