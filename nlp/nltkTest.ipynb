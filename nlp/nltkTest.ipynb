{
 "cells": [
  {
   "cell_type": "code",
   "execution_count": 1,
   "metadata": {},
   "outputs": [],
   "source": [
    "import nltk\n",
    "from nltk.corpus import stopwords\n",
    "from nltk.tokenize import sent_tokenize\n",
    "from nltk.stem import PorterStemmer"
   ]
  },
  {
   "cell_type": "code",
   "execution_count": 2,
   "metadata": {},
   "outputs": [],
   "source": [
    "from nltk.stem import SnowballStemmer"
   ]
  },
  {
   "cell_type": "code",
   "execution_count": 3,
   "metadata": {},
   "outputs": [],
   "source": [
    "from nltk.stem import WordNetLemmatizer"
   ]
  },
  {
   "cell_type": "code",
   "execution_count": 5,
   "metadata": {},
   "outputs": [],
   "source": [
    "#text = 'Python es un lenguaje de programación interpretado cuya filosofía hace hincapié en una sintaxis que favorezca un código legible. Se trata de un lenguaje de programación multiparadigma, ya que soporta orientación a objetos, programación imperativa y, en menor medida, programación funcional.'\n",
    "text = \"This open textbook was revised in 2018 under a Round Eleven Mini-Grant for Revisions. Topics include:   Arts Integration Music Visual Arts Literary Arts Performing Arts Physical Education and Movement A set of lecture slides for the textbook are also included as an additional file. Accessible files with optical character recognition (OCR) and auto-tagging provided by the Center for Inclusive Design and Innovation.\""
   ]
  },
  {
   "cell_type": "code",
   "execution_count": 6,
   "metadata": {},
   "outputs": [],
   "source": [
    "tokens = [t for t in text.split()]"
   ]
  },
  {
   "cell_type": "code",
   "execution_count": null,
   "metadata": {},
   "outputs": [],
   "source": [
    "#elimininando Stop Words, palabras de parada\n",
    "clean_tokens = tokens[:]\n",
    "sr = stopwords.words('english')\n",
    "for token in tokens:\n",
    "    if token in stopwords.words('english'):\n",
    "        clean_tokens.remove(token)\n",
    "clean_tokens"
   ]
  },
  {
   "cell_type": "code",
   "execution_count": null,
   "metadata": {
    "scrolled": true
   },
   "outputs": [],
   "source": [
    "#calcular frecuencia de palabras\n",
    "freq = nltk.FreqDist(clean_tokens)\n",
    "importantes = freq.most_common(5)\n",
    "for key, val in importantes:\n",
    "    print(f'{key} - {val}')\n",
    "listFreq = list(freq.items())\n",
    "listFreq = sorted(listFreq, key = lambda x: (x[0]), reverse = True)\n",
    "print('most importants -------------')\n",
    "for key, val in listFreq:\n",
    "    print(f'{key} - {val}')\n",
    "#plot\n",
    "#freq.plot(20, cumulative=False)"
   ]
  },
  {
   "cell_type": "code",
   "execution_count": null,
   "metadata": {},
   "outputs": [],
   "source": [
    "#tokenizar por oraciones o frases\n",
    "tokenizeSentences = sent_tokenize(text)\n",
    "print(tokenizeSentences)"
   ]
  },
  {
   "cell_type": "code",
   "execution_count": 25,
   "metadata": {},
   "outputs": [
    {
     "name": "stdout",
     "output_type": "stream",
     "text": [
      "play\n"
     ]
    }
   ],
   "source": [
    "#stemming | econtrar la palabra raiz de una palabra\n",
    "#Con algoritmo Porter\n",
    "stemmer = PorterStemmer()\n",
    "print(stemmer.stem('playing'))"
   ]
  },
  {
   "cell_type": "code",
   "execution_count": 44,
   "metadata": {},
   "outputs": [
    {
     "name": "stdout",
     "output_type": "stream",
     "text": [
      "playing\n"
     ]
    }
   ],
   "source": [
    "#lematización | econtrar la palabra raiz de una palabra\n",
    "#Con Wordnet\n",
    "lemmatizer = WordNetLemmatizer()\n",
    "print(lemmatizer.lemmatize('playing'))"
   ]
  },
  {
   "cell_type": "code",
   "execution_count": 42,
   "metadata": {},
   "outputs": [
    {
     "name": "stdout",
     "output_type": "stream",
     "text": [
      "jug\n"
     ]
    }
   ],
   "source": [
    "#stemming | econtrar la palabra raiz de una palabra\n",
    "#para español\n",
    "spanish_stemmer = SnowballStemmer('spanish')\n",
    "print(spanish_stemmer.stem(\"jugar\"))"
   ]
  }
 ],
 "metadata": {
  "kernelspec": {
   "display_name": "TriplesIntegration",
   "language": "python",
   "name": "triplesintegration"
  },
  "language_info": {
   "codemirror_mode": {
    "name": "ipython",
    "version": 3
   },
   "file_extension": ".py",
   "mimetype": "text/x-python",
   "name": "python",
   "nbconvert_exporter": "python",
   "pygments_lexer": "ipython3",
   "version": "3.6.8"
  }
 },
 "nbformat": 4,
 "nbformat_minor": 2
}
